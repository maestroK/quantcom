{
 "cells": [
  {
   "cell_type": "code",
   "execution_count": 18,
   "id": "3c3d8b5a-1894-4f70-9db0-78c5f0f66d9e",
   "metadata": {
    "tags": []
   },
   "outputs": [],
   "source": [
    "from qiskit import QuantumCircuit\n",
    "from qiskit.quantum_info import Statevector\n",
    "from qiskit.visualization import plot_histogram, plot_bloch_vector\n",
    "from math import sqrt, pi"
   ]
  },
  {
   "cell_type": "code",
   "execution_count": 33,
   "id": "61607b16-008b-4acf-8725-c5a089ac50b7",
   "metadata": {
    "tags": []
   },
   "outputs": [
    {
     "data": {
      "image/png": "[encoded data removed]",
      "text/plain": [
       "<Figure size 143.647x117.056 with 1 Axes>"
      ]
     },
     "execution_count": 33,
     "metadata": {},
     "output_type": "execute_result"
    }
   ],
   "source": [
    "qc = QuantumCircuit(1)\n",
    "'''\n",
    "We can use the initialize() method to transform this into any state. \n",
    "We give initialize() the vector we want in the form of a list, and tell it which qubit(s) we want to initialize in this state:\n",
    "Also these are for old now simply declare a vector'''\n",
    "one = Statevector([0, 1])\n",
    "#tell the state and which qubit you want that state to assume. here you are telling 0th qubit to assume the initialstate\n",
    "qc.draw()"
   ]
  },
  {
   "cell_type": "code",
   "execution_count": 30,
   "id": "50651c11-df34-4f27-beaf-8c0b59e332a3",
   "metadata": {
    "tags": []
   },
   "outputs": [
    {
     "name": "stdout",
     "output_type": "stream",
     "text": [
      "Statevector([1.+0.j, 0.+0.j],\n",
      "            dims=(2,))\n"
     ]
    }
   ],
   "source": [
    "from qiskit import Aer, transpile\n",
    "backend = Aer.get_backend('statevector_simulator')#tells qiskit how to simulate our statevector\n",
    "transpiled_circuits = transpile(qc, backend)#ask to transpile code to simulator\n",
    "result = backend.run(transpiled_circuits).result()#get tc from backend and print result\n",
    "statevector = result.get_statevector()\n",
    "print(statevector)\n"
   ]
  },
  {
   "cell_type": "code",
   "execution_count": 31,
   "id": "1a3daa1f-7019-4bc7-a7c6-09e09e41970b",
   "metadata": {
    "tags": []
   },
   "outputs": [
    {
     "data": {
      "image/png": "[encoded data removed]",
      "text/plain": [
       "<Figure size 514.804x284.278 with 1 Axes>"
      ]
     },
     "execution_count": 31,
     "metadata": {},
     "output_type": "execute_result"
    }
   ],
   "source": [
    "qc.draw()"
   ]
  },
  {
   "cell_type": "code",
   "execution_count": null,
   "id": "9f448a4b-76fd-4b61-89f9-8ed00e229810",
   "metadata": {},
   "outputs": [],
   "source": [
    "#note that we already know how to do all these. refer to qiskit cert website to make sure you know how to use each fn."
   ]
  }
 ],
 "metadata": {
  "kernelspec": {
   "display_name": "Python 3 (ipykernel)",
   "language": "python",
   "name": "python3"
  },
  "language_info": {
   "codemirror_mode": {
    "name": "ipython",
    "version": 3
   },
   "file_extension": ".py",
   "mimetype": "text/x-python",
   "name": "python",
   "nbconvert_exporter": "python",
   "pygments_lexer": "ipython3",
   "version": "3.10.8"
  },
  "widgets": {
   "application/vnd.jupyter.widget-state+json": {
    "state": {
     "01afbd14f0df4cf49399833124d28bda": {
      "model_module": "@jupyter-widgets/base",
      "model_module_version": "2.0.0",
      "model_name": "LayoutModel",
      "state": {
       "margin": "0px 0px 0px 37px",
       "width": "600px"
      }
     },
     "05a6c4d2fb8c47e0bd0c97af48c21819": {
      "model_module": "@jupyter-widgets/base",
      "model_module_version": "2.0.0",
      "model_name": "LayoutModel",
      "state": {
       "width": "95px"
      }
     },
     "1212c7d8cf384f809879b21ff5edbbce": {
      "model_module": "@jupyter-widgets/controls",
      "model_module_version": "2.0.0",
      "model_name": "HTMLStyleModel",
      "state": {
       "description_width": "",
       "font_size": null,
       "text_color": null
      }
     },
     "12bfd4335fe64b80b5a462787cf3632f": {
      "model_module": "@jupyter-widgets/controls",
      "model_module_version": "2.0.0",
      "model_name": "HTMLModel",
      "state": {
       "layout": "IPY_MODEL_add36a180c2e4e8291f5caae9b9cec32",
       "style": "IPY_MODEL_9de530cd296b4140998f65412faff16b",
       "value": "<h5>Backend</h5>"
      }
     },
     "177496ac54134b00be5a0fb4b3029029": {
      "model_module": "@jupyter-widgets/controls",
      "model_module_version": "2.0.0",
      "model_name": "HTMLModel",
      "state": {
       "layout": "IPY_MODEL_e4ceee8a57e54043abc9a5d28c99711f",
       "style": "IPY_MODEL_d5fb448678684bf9a1b6306ebab7b7a9",
       "value": "<h5>Queue</h5>"
      }
     },
     "18863ce3d025448da0c5949ea90f0372": {
      "model_module": "@jupyter-widgets/base",
      "model_module_version": "2.0.0",
      "model_name": "LayoutModel",
      "state": {
       "grid_area": "right",
       "padding": "0px 0px 0px 0px",
       "width": "70px"
      }
     },
     "387ffa4216f9442d80c7cdfba8427eb7": {
      "model_module": "@jupyter-widgets/controls",
      "model_module_version": "2.0.0",
      "model_name": "HTMLModel",
      "state": {
       "layout": "IPY_MODEL_6aae2141ebed414dadb0fff539a742f7",
       "style": "IPY_MODEL_1212c7d8cf384f809879b21ff5edbbce",
       "value": "<p style='font-family: IBM Plex Sans, Arial, Helvetica, sans-serif; font-size: 20px; font-weight: medium;'>Circuit Properties</p>"
      }
     },
     "55904a14cad64d8a9f4b767e88f74e6b": {
      "model_module": "@jupyter-widgets/controls",
      "model_module_version": "2.0.0",
      "model_name": "HTMLStyleModel",
      "state": {
       "description_width": "",
       "font_size": null,
       "text_color": null
      }
     },
     "5617bcede63d4e74a9e28a1e8fbe942b": {
      "model_module": "@jupyter-widgets/controls",
      "model_module_version": "2.0.0",
      "model_name": "ButtonStyleModel",
      "state": {
       "font_family": null,
       "font_size": null,
       "font_style": null,
       "font_variant": null,
       "font_weight": null,
       "text_color": null,
       "text_decoration": null
      }
     },
     "5d80a64a34104d81a38b06c53602cc5f": {
      "model_module": "@jupyter-widgets/controls",
      "model_module_version": "2.0.0",
      "model_name": "HTMLModel",
      "state": {
       "layout": "IPY_MODEL_dde4296220a348e6bc68339efaf48c59",
       "style": "IPY_MODEL_a70af20bc1044a59aac4c16f1bc30b56",
       "value": "<h5>Job ID</h5>"
      }
     },
     "6aae2141ebed414dadb0fff539a742f7": {
      "model_module": "@jupyter-widgets/base",
      "model_module_version": "2.0.0",
      "model_name": "LayoutModel",
      "state": {
       "margin": "0px 0px 10px 0px"
      }
     },
     "8db19e1a10024bf3bfc8c3a320010d50": {
      "model_module": "@jupyter-widgets/controls",
      "model_module_version": "2.0.0",
      "model_name": "ButtonModel",
      "state": {
       "button_style": "primary",
       "description": "Clear",
       "layout": "IPY_MODEL_18863ce3d025448da0c5949ea90f0372",
       "style": "IPY_MODEL_5617bcede63d4e74a9e28a1e8fbe942b",
       "tooltip": null
      }
     },
     "9de530cd296b4140998f65412faff16b": {
      "model_module": "@jupyter-widgets/controls",
      "model_module_version": "2.0.0",
      "model_name": "HTMLStyleModel",
      "state": {
       "description_width": "",
       "font_size": null,
       "text_color": null
      }
     },
     "a2e40179d221451994f9a1640d2dba28": {
      "model_module": "@jupyter-widgets/base",
      "model_module_version": "2.0.0",
      "model_name": "LayoutModel",
      "state": {}
     },
     "a70af20bc1044a59aac4c16f1bc30b56": {
      "model_module": "@jupyter-widgets/controls",
      "model_module_version": "2.0.0",
      "model_name": "HTMLStyleModel",
      "state": {
       "description_width": "",
       "font_size": null,
       "text_color": null
      }
     },
     "ad1eb90d6362440d92a43ea6ad307b83": {
      "model_module": "@jupyter-widgets/controls",
      "model_module_version": "2.0.0",
      "model_name": "HBoxModel",
      "state": {
       "children": [
        "IPY_MODEL_5d80a64a34104d81a38b06c53602cc5f",
        "IPY_MODEL_12bfd4335fe64b80b5a462787cf3632f",
        "IPY_MODEL_deb6d471e74b46bf8bc52b3f38c04c72",
        "IPY_MODEL_177496ac54134b00be5a0fb4b3029029",
        "IPY_MODEL_c9dd0648a821478e98d4ca9c59c5665e"
       ],
       "layout": "IPY_MODEL_01afbd14f0df4cf49399833124d28bda"
      }
     },
     "add36a180c2e4e8291f5caae9b9cec32": {
      "model_module": "@jupyter-widgets/base",
      "model_module_version": "2.0.0",
      "model_name": "LayoutModel",
      "state": {
       "width": "145px"
      }
     },
     "b83c7f598c974131979018e3430230f1": {
      "model_module": "@jupyter-widgets/controls",
      "model_module_version": "2.0.0",
      "model_name": "HTMLStyleModel",
      "state": {
       "description_width": "",
       "font_size": null,
       "text_color": null
      }
     },
     "c9dd0648a821478e98d4ca9c59c5665e": {
      "model_module": "@jupyter-widgets/controls",
      "model_module_version": "2.0.0",
      "model_name": "HTMLModel",
      "state": {
       "layout": "IPY_MODEL_a2e40179d221451994f9a1640d2dba28",
       "style": "IPY_MODEL_b83c7f598c974131979018e3430230f1",
       "value": "<h5>Message</h5>"
      }
     },
     "d5fb448678684bf9a1b6306ebab7b7a9": {
      "model_module": "@jupyter-widgets/controls",
      "model_module_version": "2.0.0",
      "model_name": "HTMLStyleModel",
      "state": {
       "description_width": "",
       "font_size": null,
       "text_color": null
      }
     },
     "dde4296220a348e6bc68339efaf48c59": {
      "model_module": "@jupyter-widgets/base",
      "model_module_version": "2.0.0",
      "model_name": "LayoutModel",
      "state": {
       "width": "190px"
      }
     },
     "deb6d471e74b46bf8bc52b3f38c04c72": {
      "model_module": "@jupyter-widgets/controls",
      "model_module_version": "2.0.0",
      "model_name": "HTMLModel",
      "state": {
       "layout": "IPY_MODEL_05a6c4d2fb8c47e0bd0c97af48c21819",
       "style": "IPY_MODEL_55904a14cad64d8a9f4b767e88f74e6b",
       "value": "<h5>Status</h5>"
      }
     },
     "e4ceee8a57e54043abc9a5d28c99711f": {
      "model_module": "@jupyter-widgets/base",
      "model_module_version": "2.0.0",
      "model_name": "LayoutModel",
      "state": {
       "width": "70px"
      }
     },
     "ee2552d3495e43d3a09520bb1a59b1c9": {
      "model_module": "@jupyter-widgets/base",
      "model_module_version": "2.0.0",
      "model_name": "LayoutModel",
      "state": {
       "grid_template_areas": "\n                                       \". . . . right \"\n                                        ",
       "grid_template_columns": "20% 20% 20% 20% 20%",
       "width": "100%"
      }
     },
     "f80aeee192c4463e86f1d68909e560c5": {
      "model_module": "@jupyter-widgets/controls",
      "model_module_version": "2.0.0",
      "model_name": "GridBoxModel",
      "state": {
       "children": [
        "IPY_MODEL_8db19e1a10024bf3bfc8c3a320010d50"
       ],
       "layout": "IPY_MODEL_ee2552d3495e43d3a09520bb1a59b1c9"
      }
     }
    },
    "version_major": 2,
    "version_minor": 0
   }
  }
 },
 "nbformat": 4,
 "nbformat_minor": 5
}
