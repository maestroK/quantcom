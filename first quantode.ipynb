{
 "cells": [
  {
   "cell_type": "code",
   "execution_count": 35,
   "id": "e428d086-a1cc-4b4f-a511-213cb741edfc",
   "metadata": {
    "tags": []
   },
   "outputs": [
    {
     "data": {
      "text/plain": [
       "array([0.5, 0.5])"
      ]
     },
     "metadata": {},
     "output_type": "display_data"
    }
   ],
   "source": [
    "# matrix and vector computations in Python\n",
    "#can be performed using the array class from the NumPy library\n",
    "#defines two vectors, ket0 and ket1 , corresponding to the qubit state vectors , and displays their average.\n",
    "\n",
    "from numpy import array\n",
    "from IPython.display import display\n",
    "\n",
    "ket0 = array([1, 0])\n",
    "ket1 = array([0, 1])\n",
    "\n",
    "display(ket0 / 2 + ket1 / 2)\n",
    "#make sure to give space before and after / and import display from ipyhton library\n"
   ]
  },
  {
   "cell_type": "code",
   "execution_count": 36,
   "id": "a304a496-b45a-440c-8d56-a00d812607a5",
   "metadata": {
    "tags": []
   },
   "outputs": [
    {
     "data": {
      "text/plain": [
       "array([0.5, 0.5])"
      ]
     },
     "execution_count": 36,
     "metadata": {},
     "output_type": "execute_result"
    }
   ],
   "source": [
    "#It is not actually necessary to explicitly use the display command to see the result of this computation. We may instead simply write the expression of interest as the last line of the code cell, and it will be returned as its output:\n",
    "\n",
    "ket0 = array([0,1])\n",
    "ket1 = array([1,0])\n",
    "\n",
    "ket0 / 2 + ket1 / 2\n",
    "#make sure to write array before the vector, otherwise it will be treated as a list\n",
    "#also you need to import arrays or any other package only once in a file"
   ]
  },
  {
   "cell_type": "code",
   "execution_count": 37,
   "id": "ad80c8e4-9a5c-4237-8688-f30ec0e4c9f9",
   "metadata": {
    "tags": []
   },
   "outputs": [
    {
     "data": {
      "text/plain": [
       "array([[1. , 1. ],\n",
       "       [0.5, 0. ]])"
      ]
     },
     "execution_count": 37,
     "metadata": {},
     "output_type": "execute_result"
    }
   ],
   "source": [
    "#We can also use array to create matrices that represent operations.\n",
    "#M1 is a 2x2 matrix with the elements 1, 1 in the first row and 0, 0 in the second row.\n",
    "M1 = array([[1,1],[0,0]])\n",
    "M2 = array([[1,1],[1,0]])\n",
    "M1 / 2 + M2 /2"
   ]
  },
  {
   "cell_type": "code",
   "execution_count": 38,
   "id": "ccc249d7-7a47-4064-8942-d23acae1fb0b",
   "metadata": {
    "tags": []
   },
   "outputs": [
    {
     "data": {
      "text/plain": [
       "array([1, 1])"
      ]
     },
     "metadata": {},
     "output_type": "display_data"
    },
    {
     "data": {
      "text/plain": [
       "array([[2, 1],\n",
       "       [0, 0]])"
      ]
     },
     "metadata": {},
     "output_type": "display_data"
    },
    {
     "data": {
      "text/plain": [
       "array([[1, 1],\n",
       "       [1, 1]])"
      ]
     },
     "metadata": {},
     "output_type": "display_data"
    }
   ],
   "source": [
    "#Matrix multiplication (including matrix-vector multiplication as a special case) can be performed using the matmul function from NumPy\n",
    "from numpy import matmul\n",
    "display(matmul(ket1, M1))\n",
    "display(matmul(M1, M2))\n",
    "display(matmul(M2, M1))"
   ]
  },
  {
   "cell_type": "code",
   "execution_count": 39,
   "id": "1c740dbe-c61f-4d99-aa07-4d26d67735c9",
   "metadata": {
    "tags": []
   },
   "outputs": [
    {
     "name": "stdout",
     "output_type": "stream",
     "text": [
      "This code block defines the statevectors u, v, and w.\n"
     ]
    }
   ],
   "source": [
    "\n",
    "#Qiskit's Statevector class provides functionality for defining and manipulating quantum state vectors. \n",
    "#The following code cell imports the Statevector class and defines a few vectors using it. \n",
    "#Note that we need the sqrt function from the NumPy library to compute the square roots for the vector u .)\n",
    "from qiskit.quantum_info import Statevector\n",
    "from numpy import sqrt\n",
    "u = Statevector([1 / sqrt(2), 1 / sqrt(2)])\n",
    "v = Statevector([1+2j / 3, -2 / 3])\n",
    "w = Statevector([1 / 3 , 2 / 3])\n",
    "print(\"This code block defines the statevectors u, v, and w.\")\n"
   ]
  },
  {
   "cell_type": "code",
   "execution_count": 40,
   "id": "41cdd532-2ffe-434e-acfc-fb7f8a706538",
   "metadata": {
    "tags": []
   },
   "outputs": [
    {
     "data": {
      "text/latex": [
       "$$\\frac{\\sqrt{2}}{2} |0\\rangle+\\frac{\\sqrt{2}}{2} |1\\rangle$$"
      ],
      "text/plain": [
       "<IPython.core.display.Latex object>"
      ]
     },
     "metadata": {},
     "output_type": "display_data"
    },
    {
     "data": {
      "text/plain": [
       "[ 1.        +0.66666667j,-0.66666667+0.j        ]"
      ]
     },
     "metadata": {},
     "output_type": "display_data"
    }
   ],
   "source": [
    "#The Statevector class provides a draw method for displaying state vectors, including latex and text options for different visualizations, as this code cell demonstrates:\n",
    "display(u.draw(\"latex\"))\n",
    "display(v.draw(\"text\"))"
   ]
  },
  {
   "cell_type": "code",
   "execution_count": 41,
   "id": "13abce40-91bb-4b62-8201-c331957bdbdd",
   "metadata": {
    "tags": []
   },
   "outputs": [
    {
     "data": {
      "text/plain": [
       "True"
      ]
     },
     "metadata": {},
     "output_type": "display_data"
    },
    {
     "data": {
      "text/plain": [
       "False"
      ]
     },
     "metadata": {},
     "output_type": "display_data"
    },
    {
     "data": {
      "text/plain": [
       "False"
      ]
     },
     "metadata": {},
     "output_type": "display_data"
    }
   ],
   "source": [
    "#The Statevector class also includes the is_valid method, which checks to see if a given vector is a valid quantum state vector (i.e., that it has Euclidean norm equal to 1):\n",
    "display(u.is_valid())\n",
    "display(v.is_valid())\n",
    "display(w.is_valid())"
   ]
  },
  {
   "cell_type": "code",
   "execution_count": 46,
   "id": "c602119d-b4f0-4959-bf53-47c330ed4da8",
   "metadata": {
    "tags": []
   },
   "outputs": [
    {
     "data": {
      "text/plain": [
       "('1',\n",
       " Statevector([0.+0.j, 1.+0.j],\n",
       "             dims=(2,)))"
      ]
     },
     "execution_count": 46,
     "metadata": {},
     "output_type": "execute_result"
    }
   ],
   "source": [
    "#measurements of quantum states can be simulated in Qiskit, using the measure method from the Statevector class\n",
    "u.measure()"
   ]
  },
  {
   "cell_type": "code",
   "execution_count": 47,
   "id": "a8181e84-2d18-4b66-a82b-e5d0b32f9a5d",
   "metadata": {
    "tags": []
   },
   "outputs": [
    {
     "data": {
      "text/latex": [
       "$$\\frac{\\sqrt{2}}{2} |0\\rangle+\\frac{\\sqrt{2}}{2} |1\\rangle$$"
      ],
      "text/plain": [
       "<IPython.core.display.Latex object>"
      ]
     },
     "metadata": {},
     "output_type": "display_data"
    }
   ],
   "source": [
    "display(u.draw(\"latex\"))"
   ]
  },
  {
   "cell_type": "code",
   "execution_count": 51,
   "id": "2ee2a733-bd11-4fb1-aca1-b8f790a1fe35",
   "metadata": {
    "tags": []
   },
   "outputs": [
    {
     "data": {
      "text/plain": [
       "{'0': 52, '1': 48}"
      ]
     },
     "metadata": {},
     "output_type": "display_data"
    },
    {
     "data": {
      "image/png": "[encoded data removed]",
      "text/plain": [
       "<Figure size 700x500 with 1 Axes>"
      ]
     },
     "execution_count": 51,
     "metadata": {},
     "output_type": "execute_result"
    }
   ],
   "source": [
    "#Statevector also comes with a sample_counts method that allows for the simulation of any number of measurements on the system.\n",
    "#The cell also demonstrates the plot_histogram function for visualizing the results.\n",
    "from qiskit.visualization import plot_histogram\n",
    "\n",
    "statistics = u.sample_counts(100)\n",
    "display(statistics)\n",
    "plot_histogram(statistics)"
   ]
  },
  {
   "cell_type": "code",
   "execution_count": 55,
   "id": "569f7d06-2c6b-47c2-9c3a-e2bf0e18e4ac",
   "metadata": {
    "tags": []
   },
   "outputs": [
    {
     "data": {
      "text/latex": [
       "$$(- \\frac{1}{2} + \\frac{i}{2}) |0\\rangle+\\frac{\\sqrt{2}}{2} |1\\rangle$$"
      ],
      "text/plain": [
       "<IPython.core.display.Latex object>"
      ]
     },
     "execution_count": 55,
     "metadata": {},
     "output_type": "execute_result"
    }
   ],
   "source": [
    "#Unitary operations can be defined and performed on state vectors in Qiskit using the Operator class, as in the example that follows.\n",
    "from qiskit.quantum_info import Operator\n",
    "X = Operator([[0, 1], [1, 0]])\n",
    "Y = Operator([[0, -1.0j], [1.0j, 0]])\n",
    "Z = Operator([[1, 0], [0, -1]])\n",
    "H = Operator([[1 / sqrt(2), 1 / sqrt(2)], [1 / sqrt(2), -1 / sqrt(2)]])\n",
    "S = Operator([[1, 0], [0, 1.0j]])\n",
    "T = Operator([[1, 0], [0, (1 + 1.0j) / sqrt(2)]])\n",
    "\n",
    "v = Statevector([1, 0])\n",
    "#statevectors are mutable so we can redefine v\n",
    "v = v.evolve(H)\n",
    "v = v.evolve(S)\n",
    "v = v.evolve(T)\n",
    "v = v.evolve(X)\n",
    "(v.draw(\"latex\"))\n"
   ]
  },
  {
   "cell_type": "code",
   "execution_count": 56,
   "id": "79770c36-b46c-4ebc-b924-f3f2481abbc5",
   "metadata": {
    "tags": []
   },
   "outputs": [
    {
     "data": {
      "image/png": "[encoded data removed]",
      "text/plain": [
       "<Figure size 519.897x117.056 with 1 Axes>"
      ]
     },
     "execution_count": 56,
     "metadata": {},
     "output_type": "execute_result"
    }
   ],
   "source": [
    "#experiment with composing qubit unitary operations using Qiskit's QuantumCircuit class\n",
    "from qiskit import QuantumCircuit\n",
    "\n",
    "circuit = QuantumCircuit(1)\n",
    "\n",
    "circuit.h(0)\n",
    "circuit.t(0)\n",
    "circuit.h(0)\n",
    "circuit.t(0)\n",
    "circuit.z(0)\n",
    "\n",
    "circuit.draw()"
   ]
  },
  {
   "cell_type": "code",
   "execution_count": null,
   "id": "3c7f7ad6-a8e9-47ee-8467-0c5d1d24cc3c",
   "metadata": {},
   "outputs": [],
   "source": []
  }
 ],
 "metadata": {
  "kernelspec": {
   "display_name": "Python 3 (ipykernel)",
   "language": "python",
   "name": "python3"
  },
  "language_info": {
   "codemirror_mode": {
    "name": "ipython",
    "version": 3
   },
   "file_extension": ".py",
   "mimetype": "text/x-python",
   "name": "python",
   "nbconvert_exporter": "python",
   "pygments_lexer": "ipython3",
   "version": "3.10.8"
  },
  "widgets": {
   "application/vnd.jupyter.widget-state+json": {
    "state": {
     "0e55713e9edc4bef867580a51e598647": {
      "model_module": "@jupyter-widgets/controls",
      "model_module_version": "2.0.0",
      "model_name": "HTMLModel",
      "state": {
       "layout": "IPY_MODEL_abb6328b382442d2a285aaf1a97c4cc2",
       "style": "IPY_MODEL_456cbb8ebda04e9f9204923f32fc7c22",
       "value": "<h5>Job ID</h5>"
      }
     },
     "280c053c73804352ab41707d20fb26df": {
      "model_module": "@jupyter-widgets/controls",
      "model_module_version": "2.0.0",
      "model_name": "HTMLStyleModel",
      "state": {
       "description_width": "",
       "font_size": null,
       "text_color": null
      }
     },
     "28f7a7cc8f554d979964258247ca25fa": {
      "model_module": "@jupyter-widgets/controls",
      "model_module_version": "2.0.0",
      "model_name": "HTMLModel",
      "state": {
       "layout": "IPY_MODEL_edcf8a6a28fa47babc15d9ecf76179cf",
       "style": "IPY_MODEL_3b7f3aad52be4061a8d3aa19f220b03a",
       "value": "<p style='font-family: IBM Plex Sans, Arial, Helvetica, sans-serif; font-size: 20px; font-weight: medium;'>Circuit Properties</p>"
      }
     },
     "36333983a8b44f0c9ae3b6447038c8ee": {
      "model_module": "@jupyter-widgets/controls",
      "model_module_version": "2.0.0",
      "model_name": "HTMLModel",
      "state": {
       "layout": "IPY_MODEL_cb3be480b61245e49bfcc07c1d2f3fef",
       "style": "IPY_MODEL_280c053c73804352ab41707d20fb26df",
       "value": "<h5>Backend</h5>"
      }
     },
     "3b7f3aad52be4061a8d3aa19f220b03a": {
      "model_module": "@jupyter-widgets/controls",
      "model_module_version": "2.0.0",
      "model_name": "HTMLStyleModel",
      "state": {
       "description_width": "",
       "font_size": null,
       "text_color": null
      }
     },
     "456cbb8ebda04e9f9204923f32fc7c22": {
      "model_module": "@jupyter-widgets/controls",
      "model_module_version": "2.0.0",
      "model_name": "HTMLStyleModel",
      "state": {
       "description_width": "",
       "font_size": null,
       "text_color": null
      }
     },
     "4d071dc383f34a2cb39cfc884190ee60": {
      "model_module": "@jupyter-widgets/base",
      "model_module_version": "2.0.0",
      "model_name": "LayoutModel",
      "state": {
       "grid_area": "right",
       "padding": "0px 0px 0px 0px",
       "width": "70px"
      }
     },
     "51ec41362a824252b741e081f0a418cd": {
      "model_module": "@jupyter-widgets/controls",
      "model_module_version": "2.0.0",
      "model_name": "HTMLStyleModel",
      "state": {
       "description_width": "",
       "font_size": null,
       "text_color": null
      }
     },
     "5f587da4a8fc444fa508d2f3df0e99eb": {
      "model_module": "@jupyter-widgets/controls",
      "model_module_version": "2.0.0",
      "model_name": "HTMLStyleModel",
      "state": {
       "description_width": "",
       "font_size": null,
       "text_color": null
      }
     },
     "65ec9f411f9f4d36a551cc13522b8422": {
      "model_module": "@jupyter-widgets/controls",
      "model_module_version": "2.0.0",
      "model_name": "HTMLModel",
      "state": {
       "layout": "IPY_MODEL_dce6486896fa4c9a82f076619e03ee3c",
       "style": "IPY_MODEL_b570a3136d474090b8389e4bed13ac05",
       "value": "<h5>Queue</h5>"
      }
     },
     "669dd047b8b145c0af38de3249eb22fb": {
      "model_module": "@jupyter-widgets/controls",
      "model_module_version": "2.0.0",
      "model_name": "GridBoxModel",
      "state": {
       "children": [
        "IPY_MODEL_c1fb7df2c4aa465e88828604d7d71c2a"
       ],
       "layout": "IPY_MODEL_68f746d80342451da09787bde267b0d1"
      }
     },
     "68f746d80342451da09787bde267b0d1": {
      "model_module": "@jupyter-widgets/base",
      "model_module_version": "2.0.0",
      "model_name": "LayoutModel",
      "state": {
       "grid_template_areas": "\n                                       \". . . . right \"\n                                        ",
       "grid_template_columns": "20% 20% 20% 20% 20%",
       "width": "100%"
      }
     },
     "849c658a959045bfabd0cca4d860ef44": {
      "model_module": "@jupyter-widgets/controls",
      "model_module_version": "2.0.0",
      "model_name": "ButtonStyleModel",
      "state": {
       "font_family": null,
       "font_size": null,
       "font_style": null,
       "font_variant": null,
       "font_weight": null,
       "text_color": null,
       "text_decoration": null
      }
     },
     "9bec90e7401d4c7ab473c56172f130c3": {
      "model_module": "@jupyter-widgets/base",
      "model_module_version": "2.0.0",
      "model_name": "LayoutModel",
      "state": {
       "margin": "0px 0px 0px 37px",
       "width": "600px"
      }
     },
     "9d303f80a1e948a6981fd2085a463df5": {
      "model_module": "@jupyter-widgets/base",
      "model_module_version": "2.0.0",
      "model_name": "LayoutModel",
      "state": {
       "width": "95px"
      }
     },
     "abb6328b382442d2a285aaf1a97c4cc2": {
      "model_module": "@jupyter-widgets/base",
      "model_module_version": "2.0.0",
      "model_name": "LayoutModel",
      "state": {
       "width": "190px"
      }
     },
     "b570a3136d474090b8389e4bed13ac05": {
      "model_module": "@jupyter-widgets/controls",
      "model_module_version": "2.0.0",
      "model_name": "HTMLStyleModel",
      "state": {
       "description_width": "",
       "font_size": null,
       "text_color": null
      }
     },
     "c1fb7df2c4aa465e88828604d7d71c2a": {
      "model_module": "@jupyter-widgets/controls",
      "model_module_version": "2.0.0",
      "model_name": "ButtonModel",
      "state": {
       "button_style": "primary",
       "description": "Clear",
       "layout": "IPY_MODEL_4d071dc383f34a2cb39cfc884190ee60",
       "style": "IPY_MODEL_849c658a959045bfabd0cca4d860ef44",
       "tooltip": null
      }
     },
     "c765f49d18c74d919d3798f6ab5e99d8": {
      "model_module": "@jupyter-widgets/controls",
      "model_module_version": "2.0.0",
      "model_name": "HBoxModel",
      "state": {
       "children": [
        "IPY_MODEL_0e55713e9edc4bef867580a51e598647",
        "IPY_MODEL_36333983a8b44f0c9ae3b6447038c8ee",
        "IPY_MODEL_ed73263f654b4c9cb3fc8751efd50157",
        "IPY_MODEL_65ec9f411f9f4d36a551cc13522b8422",
        "IPY_MODEL_f14a6cf2dce44b09a698a9fc56e55dcf"
       ],
       "layout": "IPY_MODEL_9bec90e7401d4c7ab473c56172f130c3"
      }
     },
     "cb3be480b61245e49bfcc07c1d2f3fef": {
      "model_module": "@jupyter-widgets/base",
      "model_module_version": "2.0.0",
      "model_name": "LayoutModel",
      "state": {
       "width": "145px"
      }
     },
     "dce6486896fa4c9a82f076619e03ee3c": {
      "model_module": "@jupyter-widgets/base",
      "model_module_version": "2.0.0",
      "model_name": "LayoutModel",
      "state": {
       "width": "70px"
      }
     },
     "ecf29c7c96774d6794ffd837fbc5aa58": {
      "model_module": "@jupyter-widgets/base",
      "model_module_version": "2.0.0",
      "model_name": "LayoutModel",
      "state": {}
     },
     "ed73263f654b4c9cb3fc8751efd50157": {
      "model_module": "@jupyter-widgets/controls",
      "model_module_version": "2.0.0",
      "model_name": "HTMLModel",
      "state": {
       "layout": "IPY_MODEL_9d303f80a1e948a6981fd2085a463df5",
       "style": "IPY_MODEL_51ec41362a824252b741e081f0a418cd",
       "value": "<h5>Status</h5>"
      }
     },
     "edcf8a6a28fa47babc15d9ecf76179cf": {
      "model_module": "@jupyter-widgets/base",
      "model_module_version": "2.0.0",
      "model_name": "LayoutModel",
      "state": {
       "margin": "0px 0px 10px 0px"
      }
     },
     "f14a6cf2dce44b09a698a9fc56e55dcf": {
      "model_module": "@jupyter-widgets/controls",
      "model_module_version": "2.0.0",
      "model_name": "HTMLModel",
      "state": {
       "layout": "IPY_MODEL_ecf29c7c96774d6794ffd837fbc5aa58",
       "style": "IPY_MODEL_5f587da4a8fc444fa508d2f3df0e99eb",
       "value": "<h5>Message</h5>"
      }
     }
    },
    "version_major": 2,
    "version_minor": 0
   }
  }
 },
 "nbformat": 4,
 "nbformat_minor": 5
}
